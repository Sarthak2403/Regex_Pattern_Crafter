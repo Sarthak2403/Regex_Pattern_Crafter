{
  "nbformat": 4,
  "nbformat_minor": 0,
  "metadata": {
    "colab": {
      "provenance": []
    },
    "kernelspec": {
      "name": "python3",
      "display_name": "Python 3"
    },
    "language_info": {
      "name": "python"
    }
  },
  "cells": [
    {
      "cell_type": "code",
      "execution_count": 1,
      "metadata": {
        "id": "4UMT8q9hDXEv"
      },
      "outputs": [],
      "source": [
        "import re"
      ]
    },
    {
      "cell_type": "code",
      "source": [
        "text_one = '''\n",
        "Elon Musk's phone number is 9998882221. If you have any questions please directly contact him. Tesla's anual revenue is 100 Billion dollars.\n",
        "Tesla's CFO number is (989)-450-7694\n",
        "'''\n",
        "\n",
        "pattern_one = '\\d{10}|\\(\\d{3}\\)-\\d{3}-\\d{4}'\n",
        "\n",
        "matche_one = re.findall(pattern_one, text_one)\n",
        "\n",
        "matche_one"
      ],
      "metadata": {
        "colab": {
          "base_uri": "https://localhost:8080/"
        },
        "id": "jMayyg8_DocI",
        "outputId": "6ae23a96-8e03-40dd-d597-9d9240562fee"
      },
      "execution_count": 2,
      "outputs": [
        {
          "output_type": "execute_result",
          "data": {
            "text/plain": [
              "['9998882221', '(989)-450-7694']"
            ]
          },
          "metadata": {},
          "execution_count": 2
        }
      ]
    },
    {
      "cell_type": "code",
      "source": [
        "text_two = '''\n",
        "Note 1 – Overview & Summary of Significant Accounting Policies\n",
        "Overview\n",
        "Tesla, Inc. (“Tesla”, the “Company”, “we”, “us” or “our”) was incorporated in the State of Delaware on July 1, 2003 and converted to a Texas corporation on June 13, 2024.\n",
        "Unaudited Interim Financial Statements\n",
        "The consolidated financial statements, including the consolidated balance sheet as of September 30, 2024, the consolidated statements of operations, the consolidated statements of comprehensive income, the consolidated statements of redeemable noncontrolling interests and equity for the three and nine months ended September 30, 2024 and 2023, and the consolidated statements of cash flows for the nine months ended September 30, 2024 and 2023, as well as other information disclosed in the accompanying notes, are unaudited. The consolidated balance sheet as of December 31, 2023 was derived from the audited consolidated financial statements as of that date. The interim consolidated financial statements and the accompanying notes should be read in conjunction with the annual consolidated financial statements and the accompanying notes contained in our Annual Report on Form 10-K for the year ended December 31, 2023.\n",
        "The interim consolidated financial statements and the accompanying notes have been prepared on the same basis as the annual consolidated financial statements and, in the opinion of management, reflect all adjustments, which include only normal recurring adjustments, necessary for a fair statement of the results of operations for the periods presented. The consolidated results of operations for any interim period are not necessarily indicative of the results to be expected for the full year or for any other future years or interim periods.\n",
        "Reclassifications\n",
        "Certain prior period balances have been reclassified to conform to the current period presentation in the consolidated financial statements and the accompanying notes.\n",
        "Revenue Recognition\n",
        "Revenue by source\n",
        "The following table disaggregates our revenue by major source (in millions):\n",
        " \tThree Months Ended September 30,\t\tNine Months Ended September 30,\n",
        " \t2024\t\t2023\t\t2024\t\t2023\n",
        "Automotive sales\t$\t18,831 \t\t\t$\t18,582 \t\t\t$\t53,821 \t\t\t$\t57,879\n",
        "Automotive regulatory credits\t739 \t\t\t554 \t\t\t2,071 \t\t\t1,357\n",
        "Energy generation and storage sales\t2,228 \t\t\t1,416 \t\t\t6,616 \t\t\t4,188\n",
        "Services and other\t2,790 \t\t\t2,166 \t\t\t7,686 \t\t\t6,153\n",
        "Total revenues from sales and services\t24,588 \t\t\t22,718 \t\t\t70,194 \t\t\t69,577\n",
        "Automotive leasing\t446 \t\t\t489 \t\t\t1,380 \t\t\t1,620\n",
        "Energy generation and storage leasing\t148 \t\t\t143 \t\t\t409 \t\t\t409\n",
        "Total revenues\t$\t25,182 \t\t\t$\t23,350 \t\t\t$\t71,983 \t\t\t$\t71,606\n",
        "\n",
        "Automotive Segment\n",
        "Automotive Sales\n",
        "Deferred revenue related to the access to our Full Self Driving (Supervised) (“FSD”) Capability features and their ongoing maintenance, internet connectivity, free Supercharging programs and over-the-air software updates primarily on automotive sales amounted to $3.61 billion and $3.54 billion as of September 30, 2024 and December 31, 2023, respectively.\n",
        "10\n",
        "Table of Contents\n",
        "Deferred revenue is equivalent to the total transaction price allocated to the performance obligations that are unsatisfied, or partially unsatisfied, as of the balance sheet date. Revenue recognized from the deferred revenue balances as of December 31, 2023 and 2022 was $711 million and $360 million for the nine months ended September 30, 2024 and 2023, respectively. Of the total deferred revenue balance as of September 30, 2024, we expect to recognize $821 million of revenue in the next 12 months. The remaining balance will be recognized at the time of transfer of control of the product or over the performance period.\n",
        "We have financing receivables on our consolidated balance sheets related to loans we provide for financing our automotive deliveries. As of September 30, 2024 and December 31, 2023, we had current net financing receivables of $245 million and $242 million, respectively, in Accounts receivable, net, and $868 million and $1.04 billion, respectively, in Other non-current assets for the long-term portion.\n",
        "We offer resale value guarantees to our commercial banking partners in connection with certain vehicle leasing programs. Under these programs, we originate the lease with our end customer and immediately transfer the lease and the underlying vehicle to our commercial banking partner, with the transaction being accounted for as a sale under ASC 606, Revenue from Contracts with Customers. We estimate a guarantee liability in accordance with ASC 460, Guarantees and record it within other liabilities on our consolidated balance sheet. On a quarterly basis, we assess the estimated market value of vehicles sold under this program to determine whether there have been changes to the amount of expected resale value guarantee liabilities. The total recorded guarantee liabilities on vehicles sold under this program were immaterial as of September 30, 2024 and December 31, 2023. Our maximum exposure on the guarantees we provide if they are unable to sell the vehicle at or above the vehicle’s contractual residual value at the end of the lease term was $1.04 billion and $166 million as of September 30, 2024 and December 31, 2023, respectively.\n",
        "Automotive Regulatory Credits\n",
        "As of September 30, 2024, total transaction price allocated to performance obligations that were unsatisfied or partially unsatisfied for contracts with an original expected length of more than one year was $4.72 billion. Of this amount, we expect to recognize $683 million in the next 12 months and the rest over the remaining performance obligation period. Additionally, changes in regulations on automotive regulatory credits may significantly impact our remaining performance obligations and revenue to be recognized under these contracts.\n",
        "Automotive Leasing Revenue\n",
        "Direct Sales-Type Leasing Program\n",
        "Lease receivables relating to sales-type leases are presented on the consolidated balance sheets as follows (in millions):\n",
        " \tSeptember 30, 2024\t\tDecember 31, 2023\n",
        "Gross lease receivables\t$\t584 \t\t\t$\t780\n",
        "Unearned interest income\t(48)\t\t\t(78)\n",
        "Allowance for expected credit losses\t(7)\t\t\t(6)\n",
        "Net investment in sales-type leases\t$\t529 \t\t\t$\t696\n",
        "Reported as:\n",
        "Prepaid expenses and other current assets\t$\t171 \t\t\t$\t189\n",
        "Other non-current assets\t358 \t\t\t507\n",
        "Net investment in sales-type leases\t$\t529 \t\t\t$\t696\n",
        "\n",
        "11\n",
        "Table of Contents\n",
        "Energy Generation and Storage Segment\n",
        "Energy Generation and Storage Sales\n",
        "We record as deferred revenue any non-refundable amounts that are collected from customers related to prepayments, which is recognized as revenue ratably over the respective customer contract term. As of September 30, 2024 and December 31, 2023, deferred revenue related to such customer payments amounted to $1.73 billion and $1.60 billion, respectively, mainly due to contractual payment terms. Revenue recognized from the deferred revenue balances as of December 31, 2023 and 2022 was $1.09 billion and $511 million for the nine months ended September 30, 2024 and 2023, respectively. As of September 30, 2024, total transaction price allocated to performance obligations that were unsatisfied or partially unsatisfied for contracts with an original expected length of more than one year was $6.61 billion. Of this amount, we expect to recognize $4.23 billion in the next 12 months and the rest over the remaining performance obligation period.\n",
        "We have financing receivables on our consolidated balance sheets related to loans we provide for financing our energy products. As of September 30, 2024 and December 31, 2023, we had current net financing receivables of $32 million and $31 million, respectively, in Accounts receivable, net, and $641 million and $578 million, respectively, in Other non-current assets for the long-term portion.\n",
        "Income Taxes\n",
        "We are subject to income taxes in the U.S. and in many foreign jurisdictions. Significant judgment is required in determining our provision for income taxes, our deferred tax assets and liabilities and any valuation allowance recorded against our net deferred tax assets that are not more likely than not to be realized. We monitor the realizability of our deferred tax assets taking into account all relevant factors at each reporting period. In completing our assessment of realizability of our deferred tax assets, we consider our history of income (loss) measured at pre-tax income (loss) adjusted for permanent book-tax differences on a jurisdictional basis, volatility in actual earnings, excess tax benefits related to stock-based compensation in recent prior years and impacts of the timing of reversal of existing temporary differences. We also rely on our assessment of the Company’s projected future results of business operations, including uncertainty in future operating results relative to historical results, volatility in the market price of our common stock and its performance over time, variable macroeconomic conditions impacting our ability to forecast future taxable income, and changes in business that may affect the existence and magnitude of future taxable income. Our valuation allowance assessment is based on our best estimate of future results considering all available information.\n",
        "Our provision for or benefit from income taxes for interim periods is determined using an estimate of our annual effective tax rate, adjusted for discrete items, if any, that are taken into account in the relevant period. Each quarter, we update our estimate of the annual effective tax rate, and if our estimated tax rate changes, we make a cumulative adjustment.\n",
        "Net Income per Share of Common Stock Attributable to Common Stockholders\n",
        "The following table presents the reconciliation of net income attributable to common stockholders to net income used in computing basic and diluted net income per share of common stock (in millions):\n",
        "Three Months Ended September 30,\t\tNine Months Ended September 30,\n",
        "2024\t\t2023\t\t2024\t\t2023\n",
        "Net income attributable to common stockholders\t$\t2,167 \t\t\t$\t1,853 \t\t\t$\t4,774 \t\t\t$\t7,069\n",
        "Less: Buy-outs of noncontrolling interest\t— \t\t\t2 \t\t\t(42)\t\t\t(3)\n",
        "Net income used in computing basic and diluted net income per share of common stock\t$\t2,167 \t\t\t$\t1,851 \t\t\t$\t4,816 \t\t\t$\t7,072\n",
        "\n",
        "12\n",
        "Table of Contents\n",
        "The following table presents the reconciliation of basic to diluted weighted average shares used in computing net income per share of common stock attributable to common stockholders (in millions):\n",
        "Three Months Ended September 30,\t\tNine Months Ended September 30,\n",
        "2024\t\t2023\t\t2024\t\t2023\n",
        "Weighted average shares used in computing net income per share of common stock, basic\t3,198\t\t3,176\t\t3,192\t\t3,171\n",
        "Add:\n",
        "Stock-based awards\t290\t\t304\t\t286\t\t297\n",
        "Convertible senior notes\t— \t\t\t2\t\t1\t\t2\n",
        "Warrants\t9\t\t11\t\t10\t\t11\n",
        "Weighted average shares used in computing net income per share of common stock, diluted\t3,497\t\t3,493\t\t3,489\t\t3,481\n",
        "\n",
        "The following table presents the potentially dilutive shares that were excluded from the computation of diluted net income per share of common stock attributable to common stockholders, because their effect was anti-dilutive (in millions):\n",
        "Three Months Ended September 30,\t\tNine Months Ended September 30,\n",
        "2024\t\t2023\t\t2024\t\t2023\n",
        "Stock-based awards\t15\t\t13\t\t18\t\t12\n",
        "\n",
        "Restricted Cash\n",
        "Our total cash and cash equivalents and restricted cash, as presented in the consolidated statements of cash flows, was as follows (in millions):\n",
        " \tSeptember 30,\n",
        "2024\t\tDecember 31,\n",
        "2023\t\tSeptember 30,\n",
        "2023\t\tDecember 31,\n",
        "2022\n",
        "Cash and cash equivalents\t$\t18,111 \t\t\t$\t16,398 \t\t\t$\t15,932 \t\t\t$\t16,253\n",
        "Restricted cash included in prepaid expenses and other current assets\t483 \t\t\t543 \t\t\t453 \t\t\t294\n",
        "Restricted cash included in other non-current assets\t380 \t\t\t248 \t\t\t205 \t\t\t377\n",
        "Total as presented in the consolidated statements of cash flows\t$\t18,974 \t\t\t$\t17,189 \t\t\t$\t16,590 \t\t\t$\t16,924\n",
        "\n",
        "Accounts Receivable and Allowance for Doubtful Accounts\n",
        "Depending on the day of the week on which the end of a fiscal quarter falls, our accounts receivable balance may fluctuate as we are waiting for certain customer payments to clear through our banking institutions and receipts of payments from our financing partners, which can take up to approximately two weeks based on the contractual payment terms with such partners. Our accounts receivable balances associated with sales of energy storage products are dependent on billing milestones and payment terms negotiated for each contract, and our accounts receivable balances associated with our sales of regulatory credits are dependent on contractual payment terms. Additionally, government rebates can take up to a year or more to be collected depending on the customary processing timelines of the specific jurisdictions issuing them. These various factors may have a significant impact on our accounts receivable balance from period to period. As of September 30, 2024 and December 31, 2023, government rebates receivable was $315 million and $378 million, respectively, in Accounts receivable, net for the current portion and an immaterial amount and $207 million, respectively, in Other non-current assets for the long-term portion in our consolidated balance sheets.\n",
        "Financing Receivables\n",
        "As of September 30, 2024 and December 31, 2023, the vast majority of our financing receivables were at current status with an immaterial balance being past due. As of September 30, 2024 and December 31, 2023, the majority of our financing receivables, excluding MyPower notes receivable, were originated in 2023 and 2022.\n",
        "13\n",
        "Table of Contents\n",
        "As of September 30, 2024 and December 31, 2023, the total outstanding balance of MyPower customer notes receivable, net of allowance for expected credit losses, was $250 million and $266 million, respectively, of which $5 million was due in the next 12 months. As of September 30, 2024 and December 31, 2023, the allowance for expected credit losses was $36 million.\n",
        "Concentration of Risk\n",
        "Credit Risk\n",
        "Financial instruments that potentially subject us to a concentration of credit risk consist of cash, cash equivalents, investments, restricted cash, accounts receivable and other finance receivables. Our cash and investments balances are primarily on deposit at high credit quality financial institutions or invested in highly rated, investment-grade securities. These deposits are typically in excess of insured limits. As of September 30, 2024 and December 31, 2023, no entity represented 10% or more of our total receivables balance.\n",
        "Supply Risk\n",
        "We are dependent on our suppliers, including single source suppliers, and the inability of these suppliers to deliver necessary components of our products in a timely manner at prices, quality levels and volumes acceptable to us, or our inability to efficiently manage these components from these suppliers, could have a material adverse effect on our business, prospects, financial condition and operating results.\n",
        "Warranties\n",
        "Accrued warranty activity consisted of the following (in millions):\n",
        "Three Months Ended September 30,\t\tNine Months Ended September 30,\n",
        "2024\t\t2023\t\t2024\t\t2023\n",
        "Accrued warranty - beginning of period\t$\t5,795 \t\t\t$\t4,465 \t\t\t$\t5,152 \t\t\t$\t3,505\n",
        "Warranty costs incurred\t(380)\t\t\t(335)\t\t\t(1,048)\t\t\t(911)\n",
        "Net changes in liability for pre-existing warranties, including expirations and foreign exchange impact\t231 \t\t\t15 \t\t\t295 \t\t\t426\n",
        "Provision for warranty\t717 \t\t\t577 \t\t\t1,964 \t\t\t1,702\n",
        "Accrued warranty - end of period\t$\t6,363 \t\t\t$\t4,722 \t\t\t$\t6,363 \t\t\t$\t4,722\n",
        "\n",
        "Recent Accounting Pronouncements\n",
        "Recently issued accounting pronouncements not yet adopted\n",
        "In November 2023, the Financial Accounting Standards Board (“FASB”) issued Accounting Standards Update (“ASU”) No. 2023-07, Improvements to Reportable Segment Disclosures (Topic 280). This ASU updates reportable segment disclosure requirements by requiring disclosures of significant reportable segment expenses that are regularly provided to the Chief Operating Decision Maker (“CODM”) and included within each reported measure of a segment's profit or loss. This ASU also requires disclosure of the title and position of the individual identified as the CODM and an explanation of how the CODM uses the reported measures of a segment’s profit or loss in assessing segment performance and deciding how to allocate resources. The ASU is effective for annual periods beginning after December 15, 2023, and interim periods within fiscal years beginning after December 15, 2024. Adoption of the ASU should be applied retrospectively to all prior periods presented in the financial statements. Early adoption is also permitted. This ASU will likely result in us including the additional required disclosures when adopted. We are currently evaluating the provisions of this ASU and expect to adopt them for the year ending December 31, 2024.\n",
        "14\n",
        "Table of Contents\n",
        "In December 2023, the FASB issued ASU No. 2023-08, Accounting for and Disclosure of Crypto Assets (Subtopic 350-60). This ASU requires certain crypto assets to be measured at fair value separately on the balance sheet with changes reported in the statement of operations each reporting period. This ASU also enhances the other intangible asset disclosure requirements by requiring the name, cost basis, fair value, and number of units for each significant crypto asset holding. The ASU is effective for annual periods beginning after December 15, 2024, including interim periods within those fiscal years. Adoption of the ASU requires a cumulative-effect adjustment to the opening balance of retained earnings as of the beginning of the annual reporting period in which an entity adopts the amendments. Early adoption is also permitted, including adoption in an interim period. However, if the ASU is early adopted in an interim period, an entity must adopt the ASU as of the beginning of the fiscal year that includes the interim period. This ASU will result in gains and losses recorded in the consolidated financial statements and additional disclosures when adopted. We are currently evaluating the adoption of this ASU and it could materially affect the carrying value of our crypto assets held and the gains and losses relating thereto, depending on the fair value at adoption.\n",
        "In December 2023, the FASB issued ASU No. 2023-09, Improvements to Income Tax Disclosures (Topic 740). The ASU requires disaggregated information about a reporting entity’s effective tax rate reconciliation as well as additional information on income taxes paid. The ASU is effective on a prospective basis for annual periods beginning after December 15, 2024. Early adoption is also permitted for annual financial statements that have not yet been issued or made available for issuance. This ASU will likely result in the required additional disclosures being included in our consolidated financial statements, once adopted.\n",
        "Note 2 – Fair Value of Financial Instruments\n",
        "ASC 820, Fair Value Measurements (“ASC 820”) states that fair value is an exit price, representing the amount that would be received to sell an asset or paid to transfer a liability in an orderly transaction between market participants. As such, fair value is a market-based measurement that should be determined based on assumptions that market participants would use in pricing an asset or a liability. The three-tiered fair value hierarchy, which prioritizes which inputs should be used in measuring fair value, is comprised of: (Level I) observable inputs such as quoted prices in active markets; (Level II) inputs other than quoted prices in active markets that are observable either directly or indirectly and (Level III) unobservable inputs for which there is little or no market data. The fair value hierarchy requires the use of observable market data when available in determining fair value. Our assets and liabilities that were measured at fair value on a recurring basis were as follows (in millions):\n",
        "'''\n",
        "\n",
        "pattern_two = 'Note \\d – ([^\\n]+)'\n",
        "\n",
        "match_two = re.findall(pattern_two , text_two)\n",
        "\n",
        "match_two"
      ],
      "metadata": {
        "colab": {
          "base_uri": "https://localhost:8080/"
        },
        "id": "U5EOcNNoDzHZ",
        "outputId": "fad1af7a-3e60-4a58-a665-6e0aa99613a6"
      },
      "execution_count": 3,
      "outputs": [
        {
          "output_type": "execute_result",
          "data": {
            "text/plain": [
              "['Overview & Summary of Significant Accounting Policies',\n",
              " 'Fair Value of Financial Instruments']"
            ]
          },
          "metadata": {},
          "execution_count": 3
        }
      ]
    },
    {
      "cell_type": "code",
      "source": [
        "text_three = '''The gross cost of operating lease vehicles in FY2021 Q1 was $4.8 billion.\n",
        "In preveious quarter i.e. fy2020 Q4 is was $3 billion.\n",
        "FY2021 Q5'''\n",
        "\n",
        "pattern_three = \"FY(\\d{4} Q[1-4])\"\n",
        "\n",
        "matche_three = re.findall(pattern_three, text_three, flags = re.IGNORECASE)\n",
        "matche_three"
      ],
      "metadata": {
        "colab": {
          "base_uri": "https://localhost:8080/"
        },
        "id": "woSuUSRJEDn5",
        "outputId": "853a9dde-a9a2-4578-e1ad-a0a168de8702"
      },
      "execution_count": 4,
      "outputs": [
        {
          "output_type": "execute_result",
          "data": {
            "text/plain": [
              "['2021 Q1', '2020 Q4']"
            ]
          },
          "metadata": {},
          "execution_count": 4
        }
      ]
    },
    {
      "cell_type": "code",
      "source": [
        "text_four = '''The gross cost of operating lease vehicles in FY2021 Q1 was $4.8 billion.\n",
        "In preveious quarter i.e. fy2020 Q4 is was $3 billion.\n",
        "FY2021 Q5'''\n",
        "\n",
        "pattern_four = \"FY\\d{4} Q[1-4]|\\$[\\d.]+\"\n",
        "\n",
        "match_four = re.findall(pattern_four, text_four, flags = re.IGNORECASE)\n",
        "match_four"
      ],
      "metadata": {
        "colab": {
          "base_uri": "https://localhost:8080/"
        },
        "id": "wzVGKWToENVZ",
        "outputId": "a53d5860-5dff-4a75-8fb8-58ea854b5a12"
      },
      "execution_count": 5,
      "outputs": [
        {
          "output_type": "execute_result",
          "data": {
            "text/plain": [
              "['FY2021 Q1', '$4.8', 'fy2020 Q4', '$3']"
            ]
          },
          "metadata": {},
          "execution_count": 5
        }
      ]
    },
    {
      "cell_type": "code",
      "source": [
        "text_five = '''The gross cost of operating lease vehicles in FY2021 Q1 was $4.8 billion.\n",
        "In preveious quarter i.e. fy2020 Q4 is was $3 billion.\n",
        "FY2021 Q5'''\n",
        "\n",
        "pattern_five = \"FY(\\d{4} Q[1-4])[^\\$]+(\\$[0-9\\.]+)\"\n",
        "\n",
        "match_five = re.findall(pattern_five, text_five, flags = re.IGNORECASE)\n",
        "match_five"
      ],
      "metadata": {
        "colab": {
          "base_uri": "https://localhost:8080/"
        },
        "id": "Nxza6ozTEeAk",
        "outputId": "2f98075a-4dfc-427f-9e89-1a77cdf7a2e2"
      },
      "execution_count": 6,
      "outputs": [
        {
          "output_type": "execute_result",
          "data": {
            "text/plain": [
              "[('2021 Q1', '$4.8'), ('2020 Q4', '$3')]"
            ]
          },
          "metadata": {},
          "execution_count": 6
        }
      ]
    },
    {
      "cell_type": "code",
      "source": [
        "text_six = '''\n",
        "Follow our leader Elon musk on twitter here: https://twitter.com/elonmusk, more information\n",
        "on Tesla's products can be found at https://www.tesla.com/. Also here are leading influencers\n",
        "for tesla related news,\n",
        "https://twitter.com/teslarati\n",
        "https://twitter.com/dummy_tesla\n",
        "https://twitter.com/dummy_2_tesla\n",
        "'''\n",
        "# pattern_six = 'https:\\/\\/twitter.com\\/([^\\,\\n]+)'\n",
        "pattern_six = 'https:\\/\\/twitter.com\\/([A-Za-z0-9_]+)'\n",
        "\n",
        "re.findall(pattern_six, text_six)"
      ],
      "metadata": {
        "colab": {
          "base_uri": "https://localhost:8080/"
        },
        "id": "rV9P4MHnEr9g",
        "outputId": "8cee5406-35ae-40ef-d4fc-be4287aba9fd"
      },
      "execution_count": 9,
      "outputs": [
        {
          "output_type": "execute_result",
          "data": {
            "text/plain": [
              "['elonmusk', 'teslarati', 'dummy_tesla', 'dummy_2_tesla']"
            ]
          },
          "metadata": {},
          "execution_count": 9
        }
      ]
    },
    {
      "cell_type": "code",
      "source": [
        "text_seven = '''\n",
        "Concentration of Risk: Credit Risk\n",
        "Financial instruments that potentially subject us to a concentration of credit risk consist of cash, cash equivalents, marketable securities,\n",
        "restricted cash, accounts receivable, convertible note hedges, and interest rate swaps. Our cash balances are primarily invested in money market funds\n",
        "or on deposit at high credit quality financial institutions in the U.S. These deposits are typically in excess of insured limits. As of September 30, 2021\n",
        "and December 31, 2020, no entity represented 10% or more of our total accounts receivable balance. The risk of concentration for our convertible note\n",
        "hedges and interest rate swaps is mitigated by transacting with several highly-rated multinational banks.\n",
        "Concentration of Risk: Supply Risk\n",
        "We are dependent on our suppliers, including single source suppliers, and the inability of these suppliers to deliver necessary components of our\n",
        "products in a timely manner at prices, quality levels and volumes acceptable to us, or our inability to efficiently manage these components from these\n",
        "suppliers, could have a material adverse effect on our business, prospects, financial condition and operating results.\n",
        "'''\n",
        "pattern_seven = 'Concentration of Risk: ([^\\n]+)'\n",
        "\n",
        "re.findall(pattern_seven, text_seven)"
      ],
      "metadata": {
        "colab": {
          "base_uri": "https://localhost:8080/"
        },
        "id": "6YNYhLdHF_Wy",
        "outputId": "a88df7ca-c795-4683-b90c-62b73026ca4c"
      },
      "execution_count": 11,
      "outputs": [
        {
          "output_type": "execute_result",
          "data": {
            "text/plain": [
              "['Credit Risk', 'Supply Risk']"
            ]
          },
          "metadata": {},
          "execution_count": 11
        }
      ]
    },
    {
      "cell_type": "code",
      "source": [
        "text_eight = '''\n",
        "Tesla's gross cost of operating lease vehicles in FY2021 Q1 was $4.85 billion.\n",
        "BMW's gross cost of operating vehicles in FY2021 S1 was $8 billion.\n",
        "'''\n",
        "\n",
        "pattern_eight = 'FY(\\d{4} (?:Q[1-4]|S[1-2]))'\n",
        "re.findall(pattern_eight, text_eight)"
      ],
      "metadata": {
        "colab": {
          "base_uri": "https://localhost:8080/"
        },
        "id": "SNyEo6p9IJTK",
        "outputId": "85727faf-ce8b-42e7-b1ea-5d43a7ceab47"
      },
      "execution_count": 12,
      "outputs": [
        {
          "output_type": "execute_result",
          "data": {
            "text/plain": [
              "['2021 Q1', '2021 S1']"
            ]
          },
          "metadata": {},
          "execution_count": 12
        }
      ]
    },
    {
      "cell_type": "code",
      "source": [],
      "metadata": {
        "id": "hjQABsfKKVh0"
      },
      "execution_count": null,
      "outputs": []
    }
  ]
}